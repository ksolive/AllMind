{
 "cells": [
  {
   "cell_type": "code",
   "execution_count": 10,
   "metadata": {},
   "outputs": [],
   "source": [
    "import time\n",
    "import pyperclip\n",
    "import keyboard\n",
    "\n"
   ]
  },
  {
   "cell_type": "code",
   "execution_count": 11,
   "metadata": {},
   "outputs": [],
   "source": [
    "\n",
    "def record_clipboard(interval):\n",
    "    while True:\n",
    "        clipboard_content = pyperclip.paste()\n",
    "        if clipboard_content:\n",
    "            print(\"Recorded:\", clipboard_content)  # 这里可以修改为存储到文件或数据库\n",
    "        time.sleep(interval)"
   ]
  },
  {
   "cell_type": "code",
   "execution_count": 12,
   "metadata": {},
   "outputs": [],
   "source": [
    "def on_key_event(e):\n",
    "    if e.event_type == keyboard.KEY_DOWN:\n",
    "        key = e.name\n",
    "        print(\"Recorded key press:\", key)  # 这里可以修改为存储到文件或数据库\n"
   ]
  },
  {
   "cell_type": "code",
   "execution_count": 14,
   "metadata": {},
   "outputs": [],
   "source": [
    "keyboard.unhook_all()"
   ]
  },
  {
   "cell_type": "code",
   "execution_count": 17,
   "metadata": {},
   "outputs": [
    {
     "ename": "KeyboardInterrupt",
     "evalue": "",
     "output_type": "error",
     "traceback": [
      "\u001b[1;31m---------------------------------------------------------------------------\u001b[0m",
      "\u001b[1;31mKeyboardInterrupt\u001b[0m                         Traceback (most recent call last)",
      "Cell \u001b[1;32mIn[17], line 5\u001b[0m\n\u001b[0;32m      3\u001b[0m process \u001b[39m=\u001b[39m subprocess\u001b[39m.\u001b[39mPopen(\u001b[39m\"\u001b[39m\u001b[39mD:\u001b[39m\u001b[39m\\\u001b[39m\u001b[39mLittleInteresting\u001b[39m\u001b[39m\\\u001b[39m\u001b[39mAllMind\u001b[39m\u001b[39m\\v\u001b[39;00m\u001b[39ms\u001b[39m\u001b[39m\\\u001b[39m\u001b[39mProject1\u001b[39m\u001b[39m\\x64\u001b[39;00m\u001b[39m\\\u001b[39m\u001b[39mDebug\u001b[39m\u001b[39m\\\u001b[39m\u001b[39mProject1.exe\u001b[39m\u001b[39m\"\u001b[39m, stdout\u001b[39m=\u001b[39msubprocess\u001b[39m.\u001b[39mPIPE, shell\u001b[39m=\u001b[39m\u001b[39mTrue\u001b[39;00m)\n\u001b[0;32m      4\u001b[0m \u001b[39mwhile\u001b[39;00m \u001b[39mTrue\u001b[39;00m:\n\u001b[1;32m----> 5\u001b[0m     output \u001b[39m=\u001b[39m process\u001b[39m.\u001b[39;49mstdout\u001b[39m.\u001b[39;49mreadline()\u001b[39m.\u001b[39mdecode()\u001b[39m.\u001b[39mstrip()\n\u001b[0;32m      6\u001b[0m     \u001b[39mif\u001b[39;00m output:\n\u001b[0;32m      7\u001b[0m         \u001b[39mprint\u001b[39m(\u001b[39m\"\u001b[39m\u001b[39mReceived input:\u001b[39m\u001b[39m\"\u001b[39m, output)  \u001b[39m# 这里是获取到的输入法输入文本\u001b[39;00m\n",
      "\u001b[1;31mKeyboardInterrupt\u001b[0m: "
     ]
    }
   ],
   "source": [
    "import subprocess\n",
    "\n",
    "process = subprocess.Popen(\"D:\\LittleInteresting\\AllMind\\vs\\Project1\\x64\\Debug\\Project1.exe\", stdout=subprocess.PIPE, shell=True)\n",
    "while True:\n",
    "    output = process.stdout.readline().decode().strip()\n",
    "    if output:\n",
    "        print(\"Received input:\", output)  # 这里是获取到的输入法输入文本"
   ]
  },
  {
   "cell_type": "code",
   "execution_count": 22,
   "metadata": {},
   "outputs": [
    {
     "ename": "error",
     "evalue": "(5, 'SetForegroundWindow', '拒绝访问。')",
     "output_type": "error",
     "traceback": [
      "\u001b[1;31m---------------------------------------------------------------------------\u001b[0m",
      "\u001b[1;31merror\u001b[0m                                     Traceback (most recent call last)",
      "Cell \u001b[1;32mIn[22], line 53\u001b[0m\n\u001b[0;32m     50\u001b[0m     \u001b[39mreturn\u001b[39;00m history\n\u001b[0;32m     52\u001b[0m \u001b[39mif\u001b[39;00m \u001b[39m__name__\u001b[39m \u001b[39m==\u001b[39m \u001b[39m\"\u001b[39m\u001b[39m__main__\u001b[39m\u001b[39m\"\u001b[39m:\n\u001b[1;32m---> 53\u001b[0m     chrome_history \u001b[39m=\u001b[39m get_chrome_history()\n\u001b[0;32m     54\u001b[0m     \u001b[39mprint\u001b[39m(\u001b[39m\"\u001b[39m\u001b[39mChrome浏览历史记录：\u001b[39m\u001b[39m\"\u001b[39m)\n\u001b[0;32m     55\u001b[0m     \u001b[39mfor\u001b[39;00m item \u001b[39min\u001b[39;00m chrome_history:\n",
      "Cell \u001b[1;32mIn[22], line 19\u001b[0m, in \u001b[0;36mget_chrome_history\u001b[1;34m()\u001b[0m\n\u001b[0;32m     16\u001b[0m \u001b[39mif\u001b[39;00m chrome_window:\n\u001b[0;32m     17\u001b[0m     win32gui\u001b[39m.\u001b[39mShowWindow(chrome_window, win32con\u001b[39m.\u001b[39mSW_RESTORE)  \u001b[39m# 显示Chrome窗口\u001b[39;00m\n\u001b[1;32m---> 19\u001b[0m     win32gui\u001b[39m.\u001b[39;49mSetForegroundWindow(chrome_window)  \u001b[39m# 将Chrome窗口置于前台\u001b[39;00m\n\u001b[0;32m     21\u001b[0m     shell \u001b[39m=\u001b[39m win32com\u001b[39m.\u001b[39mclient\u001b[39m.\u001b[39mDispatch(\u001b[39m\"\u001b[39m\u001b[39mWScript.Shell\u001b[39m\u001b[39m\"\u001b[39m)\n\u001b[0;32m     22\u001b[0m     shell\u001b[39m.\u001b[39mSendKeys(\u001b[39m\"\u001b[39m\u001b[39m^h\u001b[39m\u001b[39m\"\u001b[39m)  \u001b[39m# 发送Ctrl + H组合键打开历史记录\u001b[39;00m\n",
      "\u001b[1;31merror\u001b[0m: (5, 'SetForegroundWindow', '拒绝访问。')"
     ]
    }
   ],
   "source": [
    "import time\n",
    "import win32gui\n",
    "import win32con\n",
    "\n",
    "def get_chrome_history():\n",
    "    chrome_window = None\n",
    "    history = []\n",
    "\n",
    "    def enum_windows_callback(hwnd, _):\n",
    "        nonlocal chrome_window\n",
    "        if \"chrome\" in win32gui.GetWindowText(hwnd).lower():\n",
    "            chrome_window = hwnd\n",
    "\n",
    "    win32gui.EnumWindows(enum_windows_callback, None)\n",
    "\n",
    "    if chrome_window:\n",
    "        win32gui.ShowWindow(chrome_window, win32con.SW_RESTORE)  # 显示Chrome窗口\n",
    "\n",
    "        win32gui.SetForegroundWindow(chrome_window)  # 将Chrome窗口置于前台\n",
    "\n",
    "        shell = win32com.client.Dispatch(\"WScript.Shell\")\n",
    "        shell.SendKeys(\"^h\")  # 发送Ctrl + H组合键打开历史记录\n",
    "\n",
    "        time.sleep(2)  # 等待历史记录加载\n",
    "\n",
    "        chrome_history_window = None\n",
    "\n",
    "        def enum_child_windows_callback(hwnd, _):\n",
    "            nonlocal chrome_history_window\n",
    "            if \"history\" in win32gui.GetWindowText(hwnd).lower():\n",
    "                chrome_history_window = hwnd\n",
    "\n",
    "        win32gui.EnumChildWindows(chrome_window, enum_child_windows_callback, None)\n",
    "\n",
    "        if chrome_history_window:\n",
    "            win32gui.ShowWindow(chrome_history_window, win32con.SW_RESTORE)  # 显示历史记录窗口\n",
    "\n",
    "            while True:\n",
    "                item = win32gui.SendMessage(chrome_history_window, win32con.LB_GETCURSEL, 0, 0)  # 获取选中项索引\n",
    "                if item == -1:  # 没有选中项\n",
    "                    break\n",
    "                text_length = win32gui.SendMessage(chrome_history_window, win32con.LB_GETTEXTLEN, item, 0) + 1  # 获取文本长度\n",
    "                text_buffer = win32gui.Buffer(text_length)\n",
    "                win32gui.SendMessage(chrome_history_window, win32con.LB_GETTEXT, item, text_buffer)  # 获取文本内容\n",
    "                history.append(text_buffer[:text_length - 1])\n",
    "                win32gui.SendMessage(chrome_history_window, win32con.LB_SETSEL, 0, item)  # 取消选中项\n",
    "                time.sleep(0.5)\n",
    "            win32gui.ShowWindow(chrome_history_window, win32con.SW_MINIMIZE)  # 最小化历史记录窗口\n",
    "\n",
    "    return history\n",
    "\n",
    "if __name__ == \"__main__\":\n",
    "    chrome_history = get_chrome_history()\n",
    "    print(\"Chrome浏览历史记录：\")\n",
    "    for item in chrome_history:\n",
    "        print(item)\n"
   ]
  }
 ],
 "metadata": {
  "kernelspec": {
   "display_name": "Python 3",
   "language": "python",
   "name": "python3"
  },
  "language_info": {
   "codemirror_mode": {
    "name": "ipython",
    "version": 3
   },
   "file_extension": ".py",
   "mimetype": "text/x-python",
   "name": "python",
   "nbconvert_exporter": "python",
   "pygments_lexer": "ipython3",
   "version": "3.10.6"
  },
  "orig_nbformat": 4
 },
 "nbformat": 4,
 "nbformat_minor": 2
}
